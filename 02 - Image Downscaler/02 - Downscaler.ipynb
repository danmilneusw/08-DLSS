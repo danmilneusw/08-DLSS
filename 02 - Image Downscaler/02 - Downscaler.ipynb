{
 "cells": [
  {
   "cell_type": "code",
   "execution_count": 1,
   "metadata": {},
   "outputs": [],
   "source": [
    "from PIL import Image\n",
    "import os\n",
    "\n",
    "def resize_images(source_dir, dest_dir, new_size):\n",
    "    if not os.path.exists(dest_dir):\n",
    "        os.makedirs(dest_dir)\n",
    "\n",
    "    for filename in os.listdir(source_dir):\n",
    "        if filename.endswith(\".png\"):\n",
    "            img = Image.open(os.path.join(source_dir, filename))\n",
    "            img = img.resize(new_size)\n",
    "            img.save(os.path.join(dest_dir, filename))\n",
    "\n",
    "source_dir = r\"E:\\GitHub Game Engine Optimisation\\08-DLSS\\Pygame Jet Game\\frame_captures_256_256\"\n",
    "dest_dir = r\"E:\\GitHub Game Engine Optimisation\\08-DLSS\\Pygame Jet Game\\frame_captures_128_128\"\n",
    "new_size = (128, 128)\n",
    "resize_images(source_dir, dest_dir, new_size)"
   ]
  }
 ],
 "metadata": {
  "kernelspec": {
   "display_name": "pyto23",
   "language": "python",
   "name": "python3"
  },
  "language_info": {
   "codemirror_mode": {
    "name": "ipython",
    "version": 3
   },
   "file_extension": ".py",
   "mimetype": "text/x-python",
   "name": "python",
   "nbconvert_exporter": "python",
   "pygments_lexer": "ipython3",
   "version": "3.10.11"
  }
 },
 "nbformat": 4,
 "nbformat_minor": 2
}
